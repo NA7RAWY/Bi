{
 "cells": [
  {
   "cell_type": "code",
   "execution_count": 2,
   "metadata": {},
   "outputs": [],
   "source": [
    "from mlxtend.frequent_patterns import apriori,association_rules\n",
    "import pandas as pd\n",
    "import seaborn as sns\n",
    "import matplotlib.pyplot as plt \n",
    "import numpy as np "
   ]
  },
  {
   "cell_type": "code",
   "execution_count": 3,
   "metadata": {},
   "outputs": [],
   "source": [
    "df=pd.read_csv('basket_analysis.csv')\n"
   ]
  },
  {
   "cell_type": "code",
   "execution_count": 4,
   "metadata": {},
   "outputs": [
    {
     "data": {
      "text/html": [
       "<div>\n",
       "<style scoped>\n",
       "    .dataframe tbody tr th:only-of-type {\n",
       "        vertical-align: middle;\n",
       "    }\n",
       "\n",
       "    .dataframe tbody tr th {\n",
       "        vertical-align: top;\n",
       "    }\n",
       "\n",
       "    .dataframe thead th {\n",
       "        text-align: right;\n",
       "    }\n",
       "</style>\n",
       "<table border=\"1\" class=\"dataframe\">\n",
       "  <thead>\n",
       "    <tr style=\"text-align: right;\">\n",
       "      <th></th>\n",
       "      <th>Unnamed: 0</th>\n",
       "      <th>Apple</th>\n",
       "      <th>Bread</th>\n",
       "      <th>Butter</th>\n",
       "      <th>Cheese</th>\n",
       "      <th>Corn</th>\n",
       "      <th>Dill</th>\n",
       "      <th>Eggs</th>\n",
       "      <th>Ice cream</th>\n",
       "      <th>Kidney Beans</th>\n",
       "      <th>Milk</th>\n",
       "      <th>Nutmeg</th>\n",
       "      <th>Onion</th>\n",
       "      <th>Sugar</th>\n",
       "      <th>Unicorn</th>\n",
       "      <th>Yogurt</th>\n",
       "      <th>chocolate</th>\n",
       "    </tr>\n",
       "  </thead>\n",
       "  <tbody>\n",
       "    <tr>\n",
       "      <th>0</th>\n",
       "      <td>0</td>\n",
       "      <td>False</td>\n",
       "      <td>True</td>\n",
       "      <td>False</td>\n",
       "      <td>False</td>\n",
       "      <td>True</td>\n",
       "      <td>True</td>\n",
       "      <td>False</td>\n",
       "      <td>True</td>\n",
       "      <td>False</td>\n",
       "      <td>False</td>\n",
       "      <td>False</td>\n",
       "      <td>False</td>\n",
       "      <td>True</td>\n",
       "      <td>False</td>\n",
       "      <td>True</td>\n",
       "      <td>True</td>\n",
       "    </tr>\n",
       "    <tr>\n",
       "      <th>1</th>\n",
       "      <td>1</td>\n",
       "      <td>False</td>\n",
       "      <td>False</td>\n",
       "      <td>False</td>\n",
       "      <td>False</td>\n",
       "      <td>False</td>\n",
       "      <td>False</td>\n",
       "      <td>False</td>\n",
       "      <td>False</td>\n",
       "      <td>False</td>\n",
       "      <td>True</td>\n",
       "      <td>False</td>\n",
       "      <td>False</td>\n",
       "      <td>False</td>\n",
       "      <td>False</td>\n",
       "      <td>False</td>\n",
       "      <td>False</td>\n",
       "    </tr>\n",
       "    <tr>\n",
       "      <th>2</th>\n",
       "      <td>2</td>\n",
       "      <td>True</td>\n",
       "      <td>False</td>\n",
       "      <td>True</td>\n",
       "      <td>False</td>\n",
       "      <td>False</td>\n",
       "      <td>True</td>\n",
       "      <td>False</td>\n",
       "      <td>True</td>\n",
       "      <td>False</td>\n",
       "      <td>True</td>\n",
       "      <td>False</td>\n",
       "      <td>False</td>\n",
       "      <td>False</td>\n",
       "      <td>False</td>\n",
       "      <td>True</td>\n",
       "      <td>True</td>\n",
       "    </tr>\n",
       "    <tr>\n",
       "      <th>3</th>\n",
       "      <td>3</td>\n",
       "      <td>False</td>\n",
       "      <td>False</td>\n",
       "      <td>True</td>\n",
       "      <td>True</td>\n",
       "      <td>False</td>\n",
       "      <td>True</td>\n",
       "      <td>False</td>\n",
       "      <td>False</td>\n",
       "      <td>False</td>\n",
       "      <td>True</td>\n",
       "      <td>True</td>\n",
       "      <td>True</td>\n",
       "      <td>False</td>\n",
       "      <td>False</td>\n",
       "      <td>False</td>\n",
       "      <td>False</td>\n",
       "    </tr>\n",
       "    <tr>\n",
       "      <th>4</th>\n",
       "      <td>4</td>\n",
       "      <td>True</td>\n",
       "      <td>True</td>\n",
       "      <td>False</td>\n",
       "      <td>False</td>\n",
       "      <td>False</td>\n",
       "      <td>False</td>\n",
       "      <td>False</td>\n",
       "      <td>False</td>\n",
       "      <td>False</td>\n",
       "      <td>False</td>\n",
       "      <td>False</td>\n",
       "      <td>False</td>\n",
       "      <td>False</td>\n",
       "      <td>False</td>\n",
       "      <td>False</td>\n",
       "      <td>False</td>\n",
       "    </tr>\n",
       "  </tbody>\n",
       "</table>\n",
       "</div>"
      ],
      "text/plain": [
       "   Unnamed: 0  Apple  Bread  Butter  Cheese   Corn   Dill   Eggs  Ice cream  \\\n",
       "0           0  False   True   False   False   True   True  False       True   \n",
       "1           1  False  False   False   False  False  False  False      False   \n",
       "2           2   True  False    True   False  False   True  False       True   \n",
       "3           3  False  False    True    True  False   True  False      False   \n",
       "4           4   True   True   False   False  False  False  False      False   \n",
       "\n",
       "   Kidney Beans   Milk  Nutmeg  Onion  Sugar  Unicorn  Yogurt  chocolate  \n",
       "0         False  False   False  False   True    False    True       True  \n",
       "1         False   True   False  False  False    False   False      False  \n",
       "2         False   True   False  False  False    False    True       True  \n",
       "3         False   True    True   True  False    False   False      False  \n",
       "4         False  False   False  False  False    False   False      False  "
      ]
     },
     "execution_count": 4,
     "metadata": {},
     "output_type": "execute_result"
    }
   ],
   "source": [
    "df.head()\n"
   ]
  },
  {
   "cell_type": "code",
   "execution_count": 5,
   "metadata": {},
   "outputs": [
    {
     "data": {
      "text/html": [
       "<div>\n",
       "<style scoped>\n",
       "    .dataframe tbody tr th:only-of-type {\n",
       "        vertical-align: middle;\n",
       "    }\n",
       "\n",
       "    .dataframe tbody tr th {\n",
       "        vertical-align: top;\n",
       "    }\n",
       "\n",
       "    .dataframe thead th {\n",
       "        text-align: right;\n",
       "    }\n",
       "</style>\n",
       "<table border=\"1\" class=\"dataframe\">\n",
       "  <thead>\n",
       "    <tr style=\"text-align: right;\">\n",
       "      <th></th>\n",
       "      <th>count</th>\n",
       "      <th>mean</th>\n",
       "      <th>std</th>\n",
       "      <th>min</th>\n",
       "      <th>25%</th>\n",
       "      <th>50%</th>\n",
       "      <th>75%</th>\n",
       "      <th>max</th>\n",
       "    </tr>\n",
       "  </thead>\n",
       "  <tbody>\n",
       "    <tr>\n",
       "      <th>Unnamed: 0</th>\n",
       "      <td>999.0</td>\n",
       "      <td>499.0</td>\n",
       "      <td>288.530761</td>\n",
       "      <td>0.0</td>\n",
       "      <td>249.5</td>\n",
       "      <td>499.0</td>\n",
       "      <td>748.5</td>\n",
       "      <td>998.0</td>\n",
       "    </tr>\n",
       "  </tbody>\n",
       "</table>\n",
       "</div>"
      ],
      "text/plain": [
       "            count   mean         std  min    25%    50%    75%    max\n",
       "Unnamed: 0  999.0  499.0  288.530761  0.0  249.5  499.0  748.5  998.0"
      ]
     },
     "execution_count": 5,
     "metadata": {},
     "output_type": "execute_result"
    }
   ],
   "source": [
    "df.describe().transpose()\n"
   ]
  },
  {
   "cell_type": "code",
   "execution_count": 6,
   "metadata": {},
   "outputs": [],
   "source": [
    "df=df.drop('Unnamed: 0',axis=1)\n"
   ]
  },
  {
   "cell_type": "code",
   "execution_count": 7,
   "metadata": {},
   "outputs": [
    {
     "name": "stdout",
     "output_type": "stream",
     "text": [
      "Apple           0\n",
      "Bread           0\n",
      "Butter          0\n",
      "Cheese          0\n",
      "Corn            0\n",
      "Dill            0\n",
      "Eggs            0\n",
      "Ice cream       0\n",
      "Kidney Beans    0\n",
      "Milk            0\n",
      "Nutmeg          0\n",
      "Onion           0\n",
      "Sugar           0\n",
      "Unicorn         0\n",
      "Yogurt          0\n",
      "chocolate       0\n",
      "dtype: int64\n"
     ]
    }
   ],
   "source": [
    "print(df.isnull().sum())\n"
   ]
  },
  {
   "cell_type": "code",
   "execution_count": 8,
   "metadata": {},
   "outputs": [],
   "source": [
    "key=[]\n",
    "num=[]"
   ]
  },
  {
   "cell_type": "code",
   "execution_count": 9,
   "metadata": {},
   "outputs": [],
   "source": [
    "for i in df.columns:\n",
    "        if i =='id':\n",
    "                continue\n",
    "        h=df[df[i]==True]\n",
    "        key.append(i)\n",
    "        num.append(len(h))"
   ]
  },
  {
   "cell_type": "code",
   "execution_count": 10,
   "metadata": {},
   "outputs": [
    {
     "data": {
      "image/png": "[encoded data removed]",
      "text/plain": [
       "<Figure size 640x480 with 1 Axes>"
      ]
     },
     "metadata": {},
     "output_type": "display_data"
    }
   ],
   "source": [
    "plt.bar(key,num)\n",
    "plt.show()"
   ]
  },
  {
   "cell_type": "code",
   "execution_count": 11,
   "metadata": {},
   "outputs": [],
   "source": [
    "index=0\n",
    "max1=-99"
   ]
  },
  {
   "cell_type": "code",
   "execution_count": 12,
   "metadata": {},
   "outputs": [
    {
     "name": "stderr",
     "output_type": "stream",
     "text": [
      "C:\\Users\\mmeln\\AppData\\Local\\Temp\\ipykernel_6008\\932281453.py:3: FutureWarning: Series.__getitem__ treating keys as positions is deprecated. In a future version, integer keys will always be treated as labels (consistent with DataFrame behavior). To access a value by position, use `ser.iloc[pos]`\n",
      "  if j[1]>max1:\n",
      "C:\\Users\\mmeln\\AppData\\Local\\Temp\\ipykernel_6008\\932281453.py:5: FutureWarning: Series.__getitem__ treating keys as positions is deprecated. In a future version, integer keys will always be treated as labels (consistent with DataFrame behavior). To access a value by position, use `ser.iloc[pos]`\n",
      "  max1=j[1]\n"
     ]
    }
   ],
   "source": [
    "for i in range(len(df)):     \n",
    "  j=df.iloc[i].value_counts()\n",
    "  if j[1]>max1:\n",
    "    index=i\n",
    "    max1=j[1]"
   ]
  },
  {
   "cell_type": "code",
   "execution_count": 13,
   "metadata": {},
   "outputs": [
    {
     "name": "stdout",
     "output_type": "stream",
     "text": [
      "Apple           False\n",
      "Bread           False\n",
      "Butter           True\n",
      "Cheese          False\n",
      "Corn            False\n",
      "Dill            False\n",
      "Eggs             True\n",
      "Ice cream        True\n",
      "Kidney Beans     True\n",
      "Milk             True\n",
      "Nutmeg           True\n",
      "Onion            True\n",
      "Sugar           False\n",
      "Unicorn         False\n",
      "Yogurt           True\n",
      "chocolate       False\n",
      "Name: 6, dtype: bool\n"
     ]
    }
   ],
   "source": [
    "print(df.iloc[index])\n"
   ]
  },
  {
   "cell_type": "markdown",
   "metadata": {},
   "source": [
    "build model\n",
    "\n"
   ]
  },
  {
   "cell_type": "code",
   "execution_count": 14,
   "metadata": {},
   "outputs": [],
   "source": [
    "apriori=apriori(df,min_support=0.2,use_colnames=True)\n"
   ]
  },
  {
   "cell_type": "code",
   "execution_count": 16,
   "metadata": {},
   "outputs": [],
   "source": [
    "ruls=association_rules(apriori,min_threshold=0.1 , num_itemsets = None)\n"
   ]
  },
  {
   "cell_type": "code",
   "execution_count": 17,
   "metadata": {},
   "outputs": [
    {
     "data": {
      "text/html": [
       "<div>\n",
       "<style scoped>\n",
       "    .dataframe tbody tr th:only-of-type {\n",
       "        vertical-align: middle;\n",
       "    }\n",
       "\n",
       "    .dataframe tbody tr th {\n",
       "        vertical-align: top;\n",
       "    }\n",
       "\n",
       "    .dataframe thead th {\n",
       "        text-align: right;\n",
       "    }\n",
       "</style>\n",
       "<table border=\"1\" class=\"dataframe\">\n",
       "  <thead>\n",
       "    <tr style=\"text-align: right;\">\n",
       "      <th></th>\n",
       "      <th>index</th>\n",
       "      <th>antecedents</th>\n",
       "      <th>consequents</th>\n",
       "      <th>antecedent support</th>\n",
       "      <th>consequent support</th>\n",
       "      <th>support</th>\n",
       "      <th>confidence</th>\n",
       "      <th>lift</th>\n",
       "      <th>representativity</th>\n",
       "      <th>leverage</th>\n",
       "      <th>conviction</th>\n",
       "      <th>zhangs_metric</th>\n",
       "      <th>jaccard</th>\n",
       "      <th>certainty</th>\n",
       "      <th>kulczynski</th>\n",
       "    </tr>\n",
       "  </thead>\n",
       "  <tbody>\n",
       "    <tr>\n",
       "      <th>0</th>\n",
       "      <td>0</td>\n",
       "      <td>(Butter)</td>\n",
       "      <td>(Ice cream)</td>\n",
       "      <td>0.420420</td>\n",
       "      <td>0.410410</td>\n",
       "      <td>0.207207</td>\n",
       "      <td>0.492857</td>\n",
       "      <td>1.200889</td>\n",
       "      <td>1.0</td>\n",
       "      <td>0.034662</td>\n",
       "      <td>1.162571</td>\n",
       "      <td>0.288629</td>\n",
       "      <td>0.332263</td>\n",
       "      <td>0.139837</td>\n",
       "      <td>0.498868</td>\n",
       "    </tr>\n",
       "    <tr>\n",
       "      <th>1</th>\n",
       "      <td>1</td>\n",
       "      <td>(Ice cream)</td>\n",
       "      <td>(Butter)</td>\n",
       "      <td>0.410410</td>\n",
       "      <td>0.420420</td>\n",
       "      <td>0.207207</td>\n",
       "      <td>0.504878</td>\n",
       "      <td>1.200889</td>\n",
       "      <td>1.0</td>\n",
       "      <td>0.034662</td>\n",
       "      <td>1.170579</td>\n",
       "      <td>0.283728</td>\n",
       "      <td>0.332263</td>\n",
       "      <td>0.145722</td>\n",
       "      <td>0.498868</td>\n",
       "    </tr>\n",
       "    <tr>\n",
       "      <th>2</th>\n",
       "      <td>3</td>\n",
       "      <td>(Kidney Beans)</td>\n",
       "      <td>(Butter)</td>\n",
       "      <td>0.408408</td>\n",
       "      <td>0.420420</td>\n",
       "      <td>0.202202</td>\n",
       "      <td>0.495098</td>\n",
       "      <td>1.177626</td>\n",
       "      <td>1.0</td>\n",
       "      <td>0.030499</td>\n",
       "      <td>1.147905</td>\n",
       "      <td>0.254963</td>\n",
       "      <td>0.322684</td>\n",
       "      <td>0.128848</td>\n",
       "      <td>0.488025</td>\n",
       "    </tr>\n",
       "    <tr>\n",
       "      <th>3</th>\n",
       "      <td>6</td>\n",
       "      <td>(Cheese)</td>\n",
       "      <td>(Kidney Beans)</td>\n",
       "      <td>0.404404</td>\n",
       "      <td>0.408408</td>\n",
       "      <td>0.200200</td>\n",
       "      <td>0.495050</td>\n",
       "      <td>1.212143</td>\n",
       "      <td>1.0</td>\n",
       "      <td>0.035038</td>\n",
       "      <td>1.171583</td>\n",
       "      <td>0.293849</td>\n",
       "      <td>0.326797</td>\n",
       "      <td>0.146454</td>\n",
       "      <td>0.492623</td>\n",
       "    </tr>\n",
       "    <tr>\n",
       "      <th>4</th>\n",
       "      <td>7</td>\n",
       "      <td>(Kidney Beans)</td>\n",
       "      <td>(Cheese)</td>\n",
       "      <td>0.408408</td>\n",
       "      <td>0.404404</td>\n",
       "      <td>0.200200</td>\n",
       "      <td>0.490196</td>\n",
       "      <td>1.212143</td>\n",
       "      <td>1.0</td>\n",
       "      <td>0.035038</td>\n",
       "      <td>1.168284</td>\n",
       "      <td>0.295838</td>\n",
       "      <td>0.326797</td>\n",
       "      <td>0.144043</td>\n",
       "      <td>0.492623</td>\n",
       "    </tr>\n",
       "    <tr>\n",
       "      <th>5</th>\n",
       "      <td>8</td>\n",
       "      <td>(Ice cream)</td>\n",
       "      <td>(chocolate)</td>\n",
       "      <td>0.410410</td>\n",
       "      <td>0.421421</td>\n",
       "      <td>0.202202</td>\n",
       "      <td>0.492683</td>\n",
       "      <td>1.169098</td>\n",
       "      <td>1.0</td>\n",
       "      <td>0.029246</td>\n",
       "      <td>1.140467</td>\n",
       "      <td>0.245323</td>\n",
       "      <td>0.321145</td>\n",
       "      <td>0.123167</td>\n",
       "      <td>0.486246</td>\n",
       "    </tr>\n",
       "    <tr>\n",
       "      <th>6</th>\n",
       "      <td>10</td>\n",
       "      <td>(Milk)</td>\n",
       "      <td>(chocolate)</td>\n",
       "      <td>0.405405</td>\n",
       "      <td>0.421421</td>\n",
       "      <td>0.211211</td>\n",
       "      <td>0.520988</td>\n",
       "      <td>1.236263</td>\n",
       "      <td>1.0</td>\n",
       "      <td>0.040365</td>\n",
       "      <td>1.207857</td>\n",
       "      <td>0.321413</td>\n",
       "      <td>0.343089</td>\n",
       "      <td>0.172088</td>\n",
       "      <td>0.511088</td>\n",
       "    </tr>\n",
       "    <tr>\n",
       "      <th>7</th>\n",
       "      <td>11</td>\n",
       "      <td>(chocolate)</td>\n",
       "      <td>(Milk)</td>\n",
       "      <td>0.421421</td>\n",
       "      <td>0.405405</td>\n",
       "      <td>0.211211</td>\n",
       "      <td>0.501188</td>\n",
       "      <td>1.236263</td>\n",
       "      <td>1.0</td>\n",
       "      <td>0.040365</td>\n",
       "      <td>1.192021</td>\n",
       "      <td>0.330310</td>\n",
       "      <td>0.343089</td>\n",
       "      <td>0.161088</td>\n",
       "      <td>0.511088</td>\n",
       "    </tr>\n",
       "  </tbody>\n",
       "</table>\n",
       "</div>"
      ],
      "text/plain": [
       "   index     antecedents     consequents  antecedent support  \\\n",
       "0      0        (Butter)     (Ice cream)            0.420420   \n",
       "1      1     (Ice cream)        (Butter)            0.410410   \n",
       "2      3  (Kidney Beans)        (Butter)            0.408408   \n",
       "3      6        (Cheese)  (Kidney Beans)            0.404404   \n",
       "4      7  (Kidney Beans)        (Cheese)            0.408408   \n",
       "5      8     (Ice cream)     (chocolate)            0.410410   \n",
       "6     10          (Milk)     (chocolate)            0.405405   \n",
       "7     11     (chocolate)          (Milk)            0.421421   \n",
       "\n",
       "   consequent support   support  confidence      lift  representativity  \\\n",
       "0            0.410410  0.207207    0.492857  1.200889               1.0   \n",
       "1            0.420420  0.207207    0.504878  1.200889               1.0   \n",
       "2            0.420420  0.202202    0.495098  1.177626               1.0   \n",
       "3            0.408408  0.200200    0.495050  1.212143               1.0   \n",
       "4            0.404404  0.200200    0.490196  1.212143               1.0   \n",
       "5            0.421421  0.202202    0.492683  1.169098               1.0   \n",
       "6            0.421421  0.211211    0.520988  1.236263               1.0   \n",
       "7            0.405405  0.211211    0.501188  1.236263               1.0   \n",
       "\n",
       "   leverage  conviction  zhangs_metric   jaccard  certainty  kulczynski  \n",
       "0  0.034662    1.162571       0.288629  0.332263   0.139837    0.498868  \n",
       "1  0.034662    1.170579       0.283728  0.332263   0.145722    0.498868  \n",
       "2  0.030499    1.147905       0.254963  0.322684   0.128848    0.488025  \n",
       "3  0.035038    1.171583       0.293849  0.326797   0.146454    0.492623  \n",
       "4  0.035038    1.168284       0.295838  0.326797   0.144043    0.492623  \n",
       "5  0.029246    1.140467       0.245323  0.321145   0.123167    0.486246  \n",
       "6  0.040365    1.207857       0.321413  0.343089   0.172088    0.511088  \n",
       "7  0.040365    1.192021       0.330310  0.343089   0.161088    0.511088  "
      ]
     },
     "execution_count": 17,
     "metadata": {},
     "output_type": "execute_result"
    }
   ],
   "source": [
    "ruls=ruls[ruls['confidence']>0.49]\n",
    "ruls=ruls.reset_index()\n",
    "ruls"
   ]
  },
  {
   "cell_type": "code",
   "execution_count": null,
   "metadata": {},
   "outputs": [],
   "source": []
  },
  {
   "cell_type": "markdown",
   "metadata": {},
   "source": [
    "predict model\n",
    "\n"
   ]
  },
  {
   "cell_type": "code",
   "execution_count": 18,
   "metadata": {},
   "outputs": [],
   "source": [
    "def predict(ruls,k):\n",
    "     result=set()\n",
    "    \n",
    "     for i in range(len(ruls)):\n",
    "          antecedents=ruls['antecedents'][i]\n",
    "          consequents=ruls['consequents'][i]\n",
    "          if antecedents.issubset(k):\n",
    "               result.update(consequents)\n",
    "     result.difference_update(k)\n",
    "     return   result"
   ]
  },
  {
   "cell_type": "code",
   "execution_count": 19,
   "metadata": {},
   "outputs": [
    {
     "name": "stdout",
     "output_type": "stream",
     "text": [
      "{'Cheese', 'chocolate', 'Ice cream'}\n"
     ]
    }
   ],
   "source": [
    "print(predict(ruls,{\"Butter\",'Milk','Kidney Beans'})) \n"
   ]
  },
  {
   "cell_type": "code",
   "execution_count": null,
   "metadata": {},
   "outputs": [],
   "source": []
  }
 ],
 "metadata": {
  "kernelspec": {
   "display_name": "Python 3",
   "language": "python",
   "name": "python3"
  },
  "language_info": {
   "codemirror_mode": {
    "name": "ipython",
    "version": 3
   },
   "file_extension": ".py",
   "mimetype": "text/x-python",
   "name": "python",
   "nbconvert_exporter": "python",
   "pygments_lexer": "ipython3",
   "version": "3.13.0"
  }
 },
 "nbformat": 4,
 "nbformat_minor": 2
}
