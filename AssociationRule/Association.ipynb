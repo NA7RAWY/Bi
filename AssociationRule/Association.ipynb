{
 "cells": [
  {
   "cell_type": "code",
   "execution_count": 173,
   "metadata": {},
   "outputs": [],
   "source": [
    "from mlxtend.frequent_patterns import apriori, association_rules, fpgrowth\n",
    "import pandas as pd\n",
    "import seaborn as sns\n",
    "import matplotlib.pyplot as plt\n",
    "import numpy as np\n",
    "import time"
   ]
  },
  {
   "cell_type": "code",
   "execution_count": 174,
   "metadata": {},
   "outputs": [],
   "source": [
    "df=pd.read_csv('basket_analysis.csv')\n"
   ]
  },
  {
   "cell_type": "code",
   "execution_count": 175,
   "metadata": {},
   "outputs": [],
   "source": [
    "df = df.drop('Unnamed: 0', axis=1)\n"
   ]
  },
  {
   "cell_type": "code",
   "execution_count": 176,
   "metadata": {},
   "outputs": [
    {
     "name": "stdout",
     "output_type": "stream",
     "text": [
      "   Apple  Bread  Butter  Cheese   Corn   Dill   Eggs  Ice cream  Kidney Beans  \\\n",
      "0  False   True   False   False   True   True  False       True         False   \n",
      "1  False  False   False   False  False  False  False      False         False   \n",
      "2   True  False    True   False  False   True  False       True         False   \n",
      "3  False  False    True    True  False   True  False      False         False   \n",
      "4   True   True   False   False  False  False  False      False         False   \n",
      "\n",
      "    Milk  Nutmeg  Onion  Sugar  Unicorn  Yogurt  chocolate  \n",
      "0  False   False  False   True    False    True       True  \n",
      "1   True   False  False  False    False   False      False  \n",
      "2   True   False  False  False    False    True       True  \n",
      "3   True    True   True  False    False   False      False  \n",
      "4  False   False  False  False    False   False      False  \n",
      "             count unique    top freq\n",
      "Apple          999      2  False  616\n",
      "Bread          999      2  False  615\n",
      "Butter         999      2  False  579\n",
      "Cheese         999      2  False  595\n",
      "Corn           999      2  False  592\n",
      "Dill           999      2  False  601\n",
      "Eggs           999      2  False  615\n",
      "Ice cream      999      2  False  589\n",
      "Kidney Beans   999      2  False  591\n",
      "Milk           999      2  False  594\n",
      "Nutmeg         999      2  False  598\n",
      "Onion          999      2  False  596\n",
      "Sugar          999      2  False  590\n",
      "Unicorn        999      2  False  610\n",
      "Yogurt         999      2  False  579\n",
      "chocolate      999      2  False  578\n",
      "Apple           0\n",
      "Bread           0\n",
      "Butter          0\n",
      "Cheese          0\n",
      "Corn            0\n",
      "Dill            0\n",
      "Eggs            0\n",
      "Ice cream       0\n",
      "Kidney Beans    0\n",
      "Milk            0\n",
      "Nutmeg          0\n",
      "Onion           0\n",
      "Sugar           0\n",
      "Unicorn         0\n",
      "Yogurt          0\n",
      "chocolate       0\n",
      "dtype: int64\n"
     ]
    }
   ],
   "source": [
    "print(df.head())\n",
    "print(df.describe().transpose())\n",
    "print(df.isnull().sum())"
   ]
  },
  {
   "cell_type": "code",
   "execution_count": 177,
   "metadata": {},
   "outputs": [],
   "source": [
    "apriori_freq_itemsets = apriori(df, min_support=0.2, use_colnames=True)\n",
    "apriori_rules = association_rules(apriori_freq_itemsets, min_threshold=0.1, num_itemsets=None)\n",
    "apriori_rules = apriori_rules[apriori_rules['confidence'] > 0.49]\n",
    "apriori_rules = apriori_rules.reset_index()"
   ]
  },
  {
   "cell_type": "code",
   "execution_count": 178,
   "metadata": {},
   "outputs": [],
   "source": [
    "fpgrowth_freq_itemsets = fpgrowth(df, min_support=0.2, use_colnames=True)\n",
    "fpgrowth_rules = association_rules(fpgrowth_freq_itemsets, min_threshold=0.1, num_itemsets=None)\n",
    "fpgrowth_rules = fpgrowth_rules[fpgrowth_rules['confidence'] > 0.49]\n",
    "fpgrowth_rules = fpgrowth_rules.reset_index()"
   ]
  },
  {
   "cell_type": "code",
   "execution_count": 179,
   "metadata": {},
   "outputs": [
    {
     "name": "stdout",
     "output_type": "stream",
     "text": [
      "\n",
      "Apriori Rules: \n",
      "    index     antecedents     consequents  antecedent support  \\\n",
      "0      0        (Butter)     (Ice cream)            0.420420   \n",
      "1      1     (Ice cream)        (Butter)            0.410410   \n",
      "2      2  (Kidney Beans)        (Butter)            0.408408   \n",
      "3      6  (Kidney Beans)        (Cheese)            0.408408   \n",
      "4      7        (Cheese)  (Kidney Beans)            0.404404   \n",
      "5      9     (Ice cream)     (chocolate)            0.410410   \n",
      "6     10     (chocolate)          (Milk)            0.421421   \n",
      "7     11          (Milk)     (chocolate)            0.405405   \n",
      "\n",
      "   consequent support   support  confidence      lift  representativity  \\\n",
      "0            0.410410  0.207207    0.492857  1.200889               1.0   \n",
      "1            0.420420  0.207207    0.504878  1.200889               1.0   \n",
      "2            0.420420  0.202202    0.495098  1.177626               1.0   \n",
      "3            0.404404  0.200200    0.490196  1.212143               1.0   \n",
      "4            0.408408  0.200200    0.495050  1.212143               1.0   \n",
      "5            0.421421  0.202202    0.492683  1.169098               1.0   \n",
      "6            0.405405  0.211211    0.501188  1.236263               1.0   \n",
      "7            0.421421  0.211211    0.520988  1.236263               1.0   \n",
      "\n",
      "   leverage  conviction  zhangs_metric   jaccard  certainty  kulczynski  \n",
      "0  0.034662    1.162571       0.288629  0.332263   0.139837    0.498868  \n",
      "1  0.034662    1.170579       0.283728  0.332263   0.145722    0.498868  \n",
      "2  0.030499    1.147905       0.254963  0.322684   0.128848    0.488025  \n",
      "3  0.035038    1.168284       0.295838  0.326797   0.144043    0.492623  \n",
      "4  0.035038    1.171583       0.293849  0.326797   0.146454    0.492623  \n",
      "5  0.029246    1.140467       0.245323  0.321145   0.123167    0.486246  \n",
      "6  0.040365    1.192021       0.330310  0.343089   0.161088    0.511088  \n",
      "7  0.040365    1.207857       0.321413  0.343089   0.172088    0.511088  \n",
      "\n",
      "FPGrowth Rules: \n",
      "    index     antecedents     consequents  antecedent support  \\\n",
      "0      1     (Ice cream)     (chocolate)            0.410410   \n",
      "1      2        (Butter)     (Ice cream)            0.420420   \n",
      "2      3     (Ice cream)        (Butter)            0.410410   \n",
      "3      4     (chocolate)          (Milk)            0.421421   \n",
      "4      5          (Milk)     (chocolate)            0.405405   \n",
      "5      8  (Kidney Beans)        (Cheese)            0.408408   \n",
      "6      9        (Cheese)  (Kidney Beans)            0.404404   \n",
      "7     10  (Kidney Beans)        (Butter)            0.408408   \n",
      "\n",
      "   consequent support   support  confidence      lift  representativity  \\\n",
      "0            0.421421  0.202202    0.492683  1.169098               1.0   \n",
      "1            0.410410  0.207207    0.492857  1.200889               1.0   \n",
      "2            0.420420  0.207207    0.504878  1.200889               1.0   \n",
      "3            0.405405  0.211211    0.501188  1.236263               1.0   \n",
      "4            0.421421  0.211211    0.520988  1.236263               1.0   \n",
      "5            0.404404  0.200200    0.490196  1.212143               1.0   \n",
      "6            0.408408  0.200200    0.495050  1.212143               1.0   \n",
      "7            0.420420  0.202202    0.495098  1.177626               1.0   \n",
      "\n",
      "   leverage  conviction  zhangs_metric   jaccard  certainty  kulczynski  \n",
      "0  0.029246    1.140467       0.245323  0.321145   0.123167    0.486246  \n",
      "1  0.034662    1.162571       0.288629  0.332263   0.139837    0.498868  \n",
      "2  0.034662    1.170579       0.283728  0.332263   0.145722    0.498868  \n",
      "3  0.040365    1.192021       0.330310  0.343089   0.161088    0.511088  \n",
      "4  0.040365    1.207857       0.321413  0.343089   0.172088    0.511088  \n",
      "5  0.035038    1.168284       0.295838  0.326797   0.144043    0.492623  \n",
      "6  0.035038    1.171583       0.293849  0.326797   0.146454    0.492623  \n",
      "7  0.030499    1.147905       0.254963  0.322684   0.128848    0.488025  \n"
     ]
    }
   ],
   "source": [
    "print(\"\\nApriori Rules: \\n\", apriori_rules)\n",
    "print(\"\\nFPGrowth Rules: \\n\", fpgrowth_rules)"
   ]
  },
  {
   "cell_type": "code",
   "execution_count": 180,
   "metadata": {},
   "outputs": [],
   "source": [
    "start_time = time.time()\n",
    "apriori_freq_itemsets = apriori(df, min_support=0.2, use_colnames=True)\n",
    "apriori_rules = association_rules(apriori_freq_itemsets, min_threshold=0.1, num_itemsets=None)\n",
    "apriori_execution_time = time.time() - start_time\n",
    "\n",
    "start_time = time.time()\n",
    "fpgrowth_freq_itemsets = fpgrowth(df, min_support=0.2, use_colnames=True)\n",
    "fpgrowth_rules = association_rules(fpgrowth_freq_itemsets, min_threshold=0.1, num_itemsets=None)\n",
    "fpgrowth_execution_time = time.time()  - start_time"
   ]
  },
  {
   "cell_type": "code",
   "execution_count": 181,
   "metadata": {},
   "outputs": [
    {
     "name": "stdout",
     "output_type": "stream",
     "text": [
      "Apriori execution time: 0.0083 seconds\n",
      "FPGrowth execution time: 0.0659 seconds\n"
     ]
    }
   ],
   "source": [
    "print(f\"Apriori execution time: {apriori_execution_time:.4f} seconds\")\n",
    "print(f\"FPGrowth execution time: {fpgrowth_execution_time:.4f} seconds\")\n"
   ]
  },
  {
   "cell_type": "code",
   "execution_count": 182,
   "metadata": {},
   "outputs": [],
   "source": [
    "def predict_apriori(ruls, k):\n",
    "    result = set()\n",
    "    for i in range(len(ruls)):\n",
    "        antecedents = ruls['antecedents'][i]\n",
    "        consequents = ruls['consequents'][i]\n",
    "        if antecedents.issubset(k):\n",
    "            result.update(consequents)\n",
    "    result.difference_update(k)\n",
    "    return result"
   ]
  },
  {
   "cell_type": "code",
   "execution_count": 183,
   "metadata": {},
   "outputs": [],
   "source": [
    "def predict_fpgrowth(ruls, k):\n",
    "    result = set()\n",
    "    for i in range(len(ruls)):\n",
    "        antecedents = ruls['antecedents'][i]\n",
    "        consequents = ruls['consequents'][i]\n",
    "        if antecedents.issubset(k):\n",
    "            result.update(consequents)\n",
    "    result.difference_update(k)\n",
    "    return result"
   ]
  },
  {
   "cell_type": "code",
   "execution_count": 184,
   "metadata": {},
   "outputs": [],
   "source": [
    "actual_items = {\"Butter\", \"Milk\", \"Kidney Beans\"}\n",
    "\n",
    "apriori_pred = predict_apriori(apriori_rules, actual_items)\n",
    "fpgrowth_pred = predict_fpgrowth(fpgrowth_rules, actual_items)"
   ]
  },
  {
   "cell_type": "code",
   "execution_count": 185,
   "metadata": {},
   "outputs": [],
   "source": [
    "def calculate_accuracy(predicted_items, actual_items):\n",
    "    TP = len(predicted_items.intersection(actual_items))\n",
    "    FP = len(predicted_items.difference(actual_items))\n",
    "    TN = len(actual_items.difference(predicted_items))\n",
    "    FN = len(actual_items.difference(predicted_items))\n",
    "    \n",
    "    accuracy = (TP + TN) / (TP + TN + FP + FN)\n",
    "    return accuracy"
   ]
  },
  {
   "cell_type": "code",
   "execution_count": 186,
   "metadata": {},
   "outputs": [
    {
     "name": "stdout",
     "output_type": "stream",
     "text": [
      "Apriori Prediction: {'Cheese', 'Ice cream', 'chocolate'}\n",
      "FPGrowth Prediction: {'Cheese', 'Ice cream', 'chocolate'}\n",
      "Apriori Accuracy: 0.3333\n",
      "FPGrowth Accuracy: 0.3333\n"
     ]
    }
   ],
   "source": [
    "apriori_accuracy = calculate_accuracy(apriori_pred, actual_items)\n",
    "fpgrowth_accuracy = calculate_accuracy(fpgrowth_pred, actual_items)\n",
    "\n",
    "# Print the results\n",
    "print(f\"Apriori Prediction: {apriori_pred}\")\n",
    "print(f\"FPGrowth Prediction: {fpgrowth_pred}\")\n",
    "print(f\"Apriori Accuracy: {apriori_accuracy:.4f}\")\n",
    "print(f\"FPGrowth Accuracy: {fpgrowth_accuracy:.4f}\")\n"
   ]
  },
  {
   "cell_type": "code",
   "execution_count": 187,
   "metadata": {},
   "outputs": [
    {
     "name": "stderr",
     "output_type": "stream",
     "text": [
      "C:\\Users\\mmeln\\AppData\\Local\\Temp\\ipykernel_8572\\3952271917.py:5: FutureWarning: \n",
      "\n",
      "Passing `palette` without assigning `hue` is deprecated and will be removed in v0.14.0. Assign the `x` variable to `hue` and set `legend=False` for the same effect.\n",
      "\n",
      "  sns.barplot(x=algorithms, y=execution_times, palette=\"Blues_d\")\n"
     ]
    },
    {
     "data": {
      "image/png": "[encoded data removed]",
      "text/plain": [
       "<Figure size 800x600 with 1 Axes>"
      ]
     },
     "metadata": {},
     "output_type": "display_data"
    }
   ],
   "source": [
    "algorithms = ['Apriori', 'FPGrowth']\n",
    "execution_times = [apriori_execution_time, fpgrowth_execution_time]\n",
    "\n",
    "plt.figure(figsize=(8, 6))\n",
    "sns.barplot(x=algorithms, y=execution_times, palette=\"Blues_d\")\n",
    "plt.title(\"Execution Time Comparison\")\n",
    "plt.ylabel(\"Execution Time (seconds)\")\n",
    "plt.show()"
   ]
  },
  {
   "cell_type": "code",
   "execution_count": 188,
   "metadata": {},
   "outputs": [
    {
     "name": "stderr",
     "output_type": "stream",
     "text": [
      "C:\\Users\\mmeln\\AppData\\Local\\Temp\\ipykernel_8572\\778307142.py:4: FutureWarning: \n",
      "\n",
      "Passing `palette` without assigning `hue` is deprecated and will be removed in v0.14.0. Assign the `x` variable to `hue` and set `legend=False` for the same effect.\n",
      "\n",
      "  sns.barplot(x=algorithms, y=accuracies, palette=\"viridis\")\n"
     ]
    },
    {
     "data": {
      "image/png": "[encoded data removed]",
      "text/plain": [
       "<Figure size 800x600 with 1 Axes>"
      ]
     },
     "metadata": {},
     "output_type": "display_data"
    }
   ],
   "source": [
    "accuracies = [apriori_accuracy, fpgrowth_accuracy]\n",
    "\n",
    "plt.figure(figsize=(8, 6))\n",
    "sns.barplot(x=algorithms, y=accuracies, palette=\"viridis\")\n",
    "plt.title(\"Accuracy Comparison\")\n",
    "plt.ylabel(\"Accuracy\")\n",
    "plt.show()"
   ]
  },
  {
   "cell_type": "code",
   "execution_count": 189,
   "metadata": {},
   "outputs": [
    {
     "data": {
      "image/png": "[encoded data removed]",
      "text/plain": [
       "<Figure size 800x600 with 1 Axes>"
      ]
     },
     "metadata": {},
     "output_type": "display_data"
    }
   ],
   "source": [
    "plt.figure(figsize=(8, 6))\n",
    "labels = ['Apriori', 'FPGrowth']\n",
    "predictions = [len(apriori_pred), len(fpgrowth_pred)]\n",
    "plt.bar(labels, predictions, color=['#4C72B0', '#55A868'])\n",
    "plt.title(\"Predicted Items Count\")\n",
    "plt.ylabel(\"Number of Predicted Items\")\n",
    "plt.show()"
   ]
  },
  {
   "cell_type": "code",
   "execution_count": null,
   "metadata": {},
   "outputs": [],
   "source": []
  }
 ],
 "metadata": {
  "kernelspec": {
   "display_name": "Python 3",
   "language": "python",
   "name": "python3"
  },
  "language_info": {
   "codemirror_mode": {
    "name": "ipython",
    "version": 3
   },
   "file_extension": ".py",
   "mimetype": "text/x-python",
   "name": "python",
   "nbconvert_exporter": "python",
   "pygments_lexer": "ipython3",
   "version": "3.13.0"
  }
 },
 "nbformat": 4,
 "nbformat_minor": 2
}
