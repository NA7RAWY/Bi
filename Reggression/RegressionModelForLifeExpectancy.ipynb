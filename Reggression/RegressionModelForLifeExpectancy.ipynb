{
 "cells": [
  {
   "cell_type": "code",
   "execution_count": 1,
   "metadata": {},
   "outputs": [],
   "source": [
    "import pandas as pd\n",
    "from sklearn.model_selection import train_test_split\n",
    "from sklearn.metrics import r2_score, mean_absolute_error, mean_squared_error\n",
    "from sklearn import linear_model\n",
    "from sklearn.tree import DecisionTreeRegressor\n",
    "import numpy as np"
   ]
  },
  {
   "cell_type": "code",
   "execution_count": 2,
   "metadata": {},
   "outputs": [],
   "source": [
    "df = pd.read_csv(\"PreProcessingOutput/Preprocessed_Life_Expectancy_Preprocessed.csv\")\n"
   ]
  },
  {
   "cell_type": "code",
   "execution_count": 3,
   "metadata": {},
   "outputs": [],
   "source": [
    "Y = df['Life expectancy ']\n",
    "X = df.drop(['Life expectancy '], axis=1)"
   ]
  },
  {
   "cell_type": "code",
   "execution_count": 4,
   "metadata": {},
   "outputs": [],
   "source": [
    "x_train, x_test, y_train, y_test = train_test_split(X, Y, test_size=0.2, random_state=42)\n"
   ]
  },
  {
   "cell_type": "code",
   "execution_count": 5,
   "metadata": {},
   "outputs": [],
   "source": [
    "lr_model = linear_model.LinearRegression()\n",
    "lr_model.fit(x_train, y_train)\n",
    "y_pred_lr = lr_model.predict(x_test)"
   ]
  },
  {
   "cell_type": "code",
   "execution_count": 6,
   "metadata": {},
   "outputs": [],
   "source": [
    "comparison_df_lr = pd.DataFrame({\n",
    "    \"Actual\": y_test.values, \n",
    "    \"Predicted (Linear Regression)\": y_pred_lr\n",
    "})"
   ]
  },
  {
   "cell_type": "code",
   "execution_count": 7,
   "metadata": {},
   "outputs": [],
   "source": [
    "r2_lr = r2_score(y_test, y_pred_lr)\n",
    "mae_lr = mean_absolute_error(y_test, y_pred_lr)\n",
    "mse_lr = mean_squared_error(y_test, y_pred_lr)\n",
    "rmse_lr = np.sqrt(mse_lr)"
   ]
  },
  {
   "cell_type": "code",
   "execution_count": 8,
   "metadata": {},
   "outputs": [
    {
     "name": "stdout",
     "output_type": "stream",
     "text": [
      "\n",
      "Linear Regression Performance:\n",
      "R2 Score: 0.8241\n",
      "Mean Absolute Error (MAE): 2.86\n",
      "Mean Squared Error (MSE): 15.24\n",
      "Root Mean Squared Error (RMSE): 3.90\n"
     ]
    }
   ],
   "source": [
    "print(\"\\nLinear Regression Performance:\")\n",
    "print(f\"R2 Score: {r2_lr:.4f}\")\n",
    "print(f\"Mean Absolute Error (MAE): {mae_lr:.2f}\")\n",
    "print(f\"Mean Squared Error (MSE): {mse_lr:.2f}\")\n",
    "print(f\"Root Mean Squared Error (RMSE): {rmse_lr:.2f}\")\n"
   ]
  },
  {
   "cell_type": "code",
   "execution_count": 9,
   "metadata": {},
   "outputs": [],
   "source": [
    "dt_model = DecisionTreeRegressor(random_state=42)\n",
    "dt_model.fit(x_train, y_train)\n",
    "y_pred_dt = dt_model.predict(x_test)"
   ]
  },
  {
   "cell_type": "code",
   "execution_count": 10,
   "metadata": {},
   "outputs": [],
   "source": [
    "comparison_df_dt = pd.DataFrame({\n",
    "    \"Actual\": y_test.values,\n",
    "    \"Predicted (Decision Tree)\": y_pred_dt\n",
    "})\n"
   ]
  },
  {
   "cell_type": "code",
   "execution_count": 11,
   "metadata": {},
   "outputs": [],
   "source": [
    "r2_dt = r2_score(y_test, y_pred_dt)\n",
    "mae_dt = mean_absolute_error(y_test, y_pred_dt)\n",
    "mse_dt = mean_squared_error(y_test, y_pred_dt)\n",
    "rmse_dt = np.sqrt(mse_dt)\n"
   ]
  },
  {
   "cell_type": "code",
   "execution_count": 12,
   "metadata": {},
   "outputs": [
    {
     "name": "stdout",
     "output_type": "stream",
     "text": [
      "\n",
      "Decision Tree Regressor Performance:\n",
      "R2 Score: 0.9281\n",
      "Mean Absolute Error (MAE): 1.52\n",
      "Mean Squared Error (MSE): 6.23\n",
      "Root Mean Squared Error (RMSE): 2.50\n"
     ]
    }
   ],
   "source": [
    "print(\"\\nDecision Tree Regressor Performance:\")\n",
    "print(f\"R2 Score: {r2_dt:.4f}\")\n",
    "print(f\"Mean Absolute Error (MAE): {mae_dt:.2f}\")\n",
    "print(f\"Mean Squared Error (MSE): {mse_dt:.2f}\")\n",
    "print(f\"Root Mean Squared Error (RMSE): {rmse_dt:.2f}\")"
   ]
  },
  {
   "cell_type": "code",
   "execution_count": 13,
   "metadata": {},
   "outputs": [
    {
     "name": "stdout",
     "output_type": "stream",
     "text": [
      "\n",
      "Decision Tree Regressor performs better and is recommended for this problem.\n"
     ]
    }
   ],
   "source": [
    "if r2_lr > r2_dt:\n",
    "    print(\"\\nLinear Regression performs better and is recommended for this problem.\")\n",
    "elif r2_dt > r2_lr:\n",
    "    print(\"\\nDecision Tree Regressor performs better and is recommended for this problem.\")\n",
    "else:\n",
    "    print(\"\\nBoth models have similar performance; choose based on other considerations like simplicity or interpretability.\")"
   ]
  },
  {
   "cell_type": "code",
   "execution_count": null,
   "metadata": {},
   "outputs": [],
   "source": []
  }
 ],
 "metadata": {
  "kernelspec": {
   "display_name": "Python 3",
   "language": "python",
   "name": "python3"
  },
  "language_info": {
   "codemirror_mode": {
    "name": "ipython",
    "version": 3
   },
   "file_extension": ".py",
   "mimetype": "text/x-python",
   "name": "python",
   "nbconvert_exporter": "python",
   "pygments_lexer": "ipython3",
   "version": "3.13.0"
  }
 },
 "nbformat": 4,
 "nbformat_minor": 2
}
