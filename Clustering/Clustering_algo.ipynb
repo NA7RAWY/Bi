{
 "cells": [
  {
   "cell_type": "code",
   "execution_count": 1,
   "metadata": {},
   "outputs": [],
   "source": [
    "import pandas as pd\n",
    "from sklearn.cluster import KMeans, DBSCAN\n",
    "from sklearn.metrics import silhouette_score"
   ]
  },
  {
   "cell_type": "code",
   "execution_count": 3,
   "metadata": {},
   "outputs": [],
   "source": [
    "data_normalized = pd.read_csv(\"Output/Preprocessed_CC_GENERAL.csv\")\n"
   ]
  },
  {
   "cell_type": "code",
   "execution_count": 4,
   "metadata": {},
   "outputs": [],
   "source": [
    "kmeans = KMeans(n_clusters=3, random_state=42)\n",
    "kmeans_labels = kmeans.fit_predict(data_normalized)\n"
   ]
  },
  {
   "cell_type": "code",
   "execution_count": 5,
   "metadata": {},
   "outputs": [],
   "source": [
    "kmeans_silhouette = silhouette_score(data_normalized, kmeans_labels)\n"
   ]
  },
  {
   "cell_type": "code",
   "execution_count": 6,
   "metadata": {},
   "outputs": [],
   "source": [
    "dbscan = DBSCAN(eps=1.5, min_samples=5)\n",
    "dbscan_labels = dbscan.fit_predict(data_normalized)"
   ]
  },
  {
   "cell_type": "code",
   "execution_count": 7,
   "metadata": {},
   "outputs": [],
   "source": [
    "if len(set(dbscan_labels)) > 1:\n",
    "    dbscan_silhouette = silhouette_score(\n",
    "        data_normalized[dbscan_labels != -1], dbscan_labels[dbscan_labels != -1]\n",
    "    )\n",
    "else:\n",
    "    dbscan_silhouette = -1"
   ]
  },
  {
   "cell_type": "code",
   "execution_count": 8,
   "metadata": {},
   "outputs": [
    {
     "name": "stdout",
     "output_type": "stream",
     "text": [
      "K-means Silhouette Score: 0.2068\n",
      "DBSCAN Silhouette Score: 0.0732\n"
     ]
    }
   ],
   "source": [
    "print(f\"K-means Silhouette Score: {kmeans_silhouette:.4f}\")\n",
    "print(f\"DBSCAN Silhouette Score: {dbscan_silhouette:.4f}\")"
   ]
  },
  {
   "cell_type": "code",
   "execution_count": 9,
   "metadata": {},
   "outputs": [
    {
     "name": "stdout",
     "output_type": "stream",
     "text": [
      "K-means is recommended as it has a higher silhouette score.\n"
     ]
    }
   ],
   "source": [
    "if kmeans_silhouette > dbscan_silhouette:\n",
    "    print(\"K-means is recommended as it has a higher silhouette score.\")\n",
    "else:\n",
    "    print(\"DBSCAN is recommended as it has a higher silhouette score or better noise handling.\")"
   ]
  },
  {
   "cell_type": "code",
   "execution_count": null,
   "metadata": {},
   "outputs": [],
   "source": []
  }
 ],
 "metadata": {
  "kernelspec": {
   "display_name": "Python 3",
   "language": "python",
   "name": "python3"
  },
  "language_info": {
   "codemirror_mode": {
    "name": "ipython",
    "version": 3
   },
   "file_extension": ".py",
   "mimetype": "text/x-python",
   "name": "python",
   "nbconvert_exporter": "python",
   "pygments_lexer": "ipython3",
   "version": "3.13.0"
  }
 },
 "nbformat": 4,
 "nbformat_minor": 2
}
